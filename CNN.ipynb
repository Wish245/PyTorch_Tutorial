{
  "nbformat": 4,
  "nbformat_minor": 0,
  "metadata": {
    "colab": {
      "provenance": [],
      "authorship_tag": "ABX9TyPds891IXIfw+jp2p4I9XyB",
      "include_colab_link": true
    },
    "kernelspec": {
      "name": "python3",
      "display_name": "Python 3"
    },
    "language_info": {
      "name": "python"
    }
  },
  "cells": [
    {
      "cell_type": "markdown",
      "metadata": {
        "id": "view-in-github",
        "colab_type": "text"
      },
      "source": [
        "<a href=\"https://colab.research.google.com/github/Wish245/PyTorch_Tutorial/blob/main/CNN.ipynb\" target=\"_parent\"><img src=\"https://colab.research.google.com/assets/colab-badge.svg\" alt=\"Open In Colab\"/></a>"
      ]
    },
    {
      "cell_type": "markdown",
      "source": [
        "transform = transforms.ToTensor()"
      ],
      "metadata": {
        "id": "9zdPJHYWifM1"
      }
    },
    {
      "cell_type": "code",
      "execution_count": 1,
      "metadata": {
        "id": "7kCxcq28hfiL"
      },
      "outputs": [],
      "source": [
        "import torch\n",
        "import torch.nn as nn\n",
        "import torch.nn.functional as F\n",
        "import torch.utils.data as DataLoader\n",
        "from torchvision import datasets, transforms\n",
        "from torchvision.utils import make_grid\n",
        "\n",
        "import numpy as np\n",
        "import pandas as pd\n",
        "from sklearn.metrics import confusion_matrix\n",
        "import matplotlib.pyplot as plt\n",
        "%matplotlib inline"
      ]
    },
    {
      "cell_type": "code",
      "source": [
        "transform = transforms.ToTensor()"
      ],
      "metadata": {
        "id": "1L1LMMPVE7Xr"
      },
      "execution_count": 2,
      "outputs": []
    },
    {
      "cell_type": "code",
      "source": [
        "train_data = datasets.MNIST(root='/cnn_data', train=True, download=True, transform=transform)"
      ],
      "metadata": {
        "colab": {
          "base_uri": "https://localhost:8080/"
        },
        "id": "2lKC4DYpFBNR",
        "outputId": "363f8fe8-16e9-44ca-f0d8-261f9bc8a670"
      },
      "execution_count": 3,
      "outputs": [
        {
          "output_type": "stream",
          "name": "stdout",
          "text": [
            "Downloading http://yann.lecun.com/exdb/mnist/train-images-idx3-ubyte.gz\n",
            "Failed to download (trying next):\n",
            "HTTP Error 403: Forbidden\n",
            "\n",
            "Downloading https://ossci-datasets.s3.amazonaws.com/mnist/train-images-idx3-ubyte.gz\n",
            "Downloading https://ossci-datasets.s3.amazonaws.com/mnist/train-images-idx3-ubyte.gz to /cnn_data/MNIST/raw/train-images-idx3-ubyte.gz\n"
          ]
        },
        {
          "output_type": "stream",
          "name": "stderr",
          "text": [
            "100%|██████████| 9912422/9912422 [00:00<00:00, 50555783.38it/s]\n"
          ]
        },
        {
          "output_type": "stream",
          "name": "stdout",
          "text": [
            "Extracting /cnn_data/MNIST/raw/train-images-idx3-ubyte.gz to /cnn_data/MNIST/raw\n",
            "\n",
            "Downloading http://yann.lecun.com/exdb/mnist/train-labels-idx1-ubyte.gz\n",
            "Failed to download (trying next):\n",
            "HTTP Error 403: Forbidden\n",
            "\n",
            "Downloading https://ossci-datasets.s3.amazonaws.com/mnist/train-labels-idx1-ubyte.gz\n",
            "Downloading https://ossci-datasets.s3.amazonaws.com/mnist/train-labels-idx1-ubyte.gz to /cnn_data/MNIST/raw/train-labels-idx1-ubyte.gz\n"
          ]
        },
        {
          "output_type": "stream",
          "name": "stderr",
          "text": [
            "100%|██████████| 28881/28881 [00:00<00:00, 1900108.14it/s]"
          ]
        },
        {
          "output_type": "stream",
          "name": "stdout",
          "text": [
            "Extracting /cnn_data/MNIST/raw/train-labels-idx1-ubyte.gz to /cnn_data/MNIST/raw\n",
            "\n",
            "Downloading http://yann.lecun.com/exdb/mnist/t10k-images-idx3-ubyte.gz\n"
          ]
        },
        {
          "output_type": "stream",
          "name": "stderr",
          "text": [
            "\n"
          ]
        },
        {
          "output_type": "stream",
          "name": "stdout",
          "text": [
            "Failed to download (trying next):\n",
            "HTTP Error 403: Forbidden\n",
            "\n",
            "Downloading https://ossci-datasets.s3.amazonaws.com/mnist/t10k-images-idx3-ubyte.gz\n",
            "Downloading https://ossci-datasets.s3.amazonaws.com/mnist/t10k-images-idx3-ubyte.gz to /cnn_data/MNIST/raw/t10k-images-idx3-ubyte.gz\n"
          ]
        },
        {
          "output_type": "stream",
          "name": "stderr",
          "text": [
            "100%|██████████| 1648877/1648877 [00:00<00:00, 13097882.25it/s]\n"
          ]
        },
        {
          "output_type": "stream",
          "name": "stdout",
          "text": [
            "Extracting /cnn_data/MNIST/raw/t10k-images-idx3-ubyte.gz to /cnn_data/MNIST/raw\n",
            "\n",
            "Downloading http://yann.lecun.com/exdb/mnist/t10k-labels-idx1-ubyte.gz\n",
            "Failed to download (trying next):\n",
            "HTTP Error 403: Forbidden\n",
            "\n",
            "Downloading https://ossci-datasets.s3.amazonaws.com/mnist/t10k-labels-idx1-ubyte.gz\n",
            "Downloading https://ossci-datasets.s3.amazonaws.com/mnist/t10k-labels-idx1-ubyte.gz to /cnn_data/MNIST/raw/t10k-labels-idx1-ubyte.gz\n"
          ]
        },
        {
          "output_type": "stream",
          "name": "stderr",
          "text": [
            "100%|██████████| 4542/4542 [00:00<00:00, 2882076.97it/s]"
          ]
        },
        {
          "output_type": "stream",
          "name": "stdout",
          "text": [
            "Extracting /cnn_data/MNIST/raw/t10k-labels-idx1-ubyte.gz to /cnn_data/MNIST/raw\n",
            "\n"
          ]
        },
        {
          "output_type": "stream",
          "name": "stderr",
          "text": [
            "\n"
          ]
        }
      ]
    },
    {
      "cell_type": "code",
      "source": [
        "test_data = datasets.MNIST(root='/cnn_data', train=True, download=True, transform=transform)"
      ],
      "metadata": {
        "id": "2z4mHFK7FRqg"
      },
      "execution_count": 4,
      "outputs": []
    },
    {
      "cell_type": "code",
      "source": [
        "train_data"
      ],
      "metadata": {
        "colab": {
          "base_uri": "https://localhost:8080/"
        },
        "id": "44wKE6tkFbuc",
        "outputId": "e0550718-faa5-46a6-ab31-5ed27e52a75d"
      },
      "execution_count": 5,
      "outputs": [
        {
          "output_type": "execute_result",
          "data": {
            "text/plain": [
              "Dataset MNIST\n",
              "    Number of datapoints: 60000\n",
              "    Root location: /cnn_data\n",
              "    Split: Train\n",
              "    StandardTransform\n",
              "Transform: ToTensor()"
            ]
          },
          "metadata": {},
          "execution_count": 5
        }
      ]
    },
    {
      "cell_type": "code",
      "source": [
        "train_loader = DataLoader.DataLoader(train_data, batch_size=10, shuffle=True)\n",
        "test_loader = DataLoader.DataLoader(test_data, batch_size=10, shuffle= False)"
      ],
      "metadata": {
        "id": "sIhIDvCVGN4T"
      },
      "execution_count": 6,
      "outputs": []
    },
    {
      "cell_type": "code",
      "source": [
        "conv1 = nn.Conv2d(1,6,3,1)\n",
        "conv2 = nn.Conv2d(6,16,3,1)"
      ],
      "metadata": {
        "id": "j23QzEl2PJ1Y"
      },
      "execution_count": 7,
      "outputs": []
    },
    {
      "cell_type": "code",
      "source": [
        "for i, (X_train, y_train) in enumerate(train_data):\n",
        "   break"
      ],
      "metadata": {
        "id": "opZUtR-0Pexu"
      },
      "execution_count": 8,
      "outputs": []
    },
    {
      "cell_type": "code",
      "source": [
        "X_train.shape"
      ],
      "metadata": {
        "colab": {
          "base_uri": "https://localhost:8080/"
        },
        "id": "f18JbqUDPqbN",
        "outputId": "a9191ef7-4b91-4c2d-de1d-e7115ce3fa4b"
      },
      "execution_count": 9,
      "outputs": [
        {
          "output_type": "execute_result",
          "data": {
            "text/plain": [
              "torch.Size([1, 28, 28])"
            ]
          },
          "metadata": {},
          "execution_count": 9
        }
      ]
    },
    {
      "cell_type": "code",
      "source": [
        "x = X_train.view(1,1,28,28)"
      ],
      "metadata": {
        "id": "OSAPAdDpPw2t"
      },
      "execution_count": 10,
      "outputs": []
    },
    {
      "cell_type": "code",
      "source": [
        "x = F.relu(conv1(x))"
      ],
      "metadata": {
        "id": "-nNuzxk5QAZe"
      },
      "execution_count": 11,
      "outputs": []
    },
    {
      "cell_type": "code",
      "source": [
        "x.shape"
      ],
      "metadata": {
        "colab": {
          "base_uri": "https://localhost:8080/"
        },
        "id": "HY4WG2JgQPlC",
        "outputId": "a63d2f48-8864-40d7-b5da-f76360760634"
      },
      "execution_count": 12,
      "outputs": [
        {
          "output_type": "execute_result",
          "data": {
            "text/plain": [
              "torch.Size([1, 6, 26, 26])"
            ]
          },
          "metadata": {},
          "execution_count": 12
        }
      ]
    },
    {
      "cell_type": "code",
      "source": [
        "x = F.max_pool2d(x,2,2)"
      ],
      "metadata": {
        "id": "bofg3wtRQNP-"
      },
      "execution_count": 13,
      "outputs": []
    },
    {
      "cell_type": "code",
      "source": [
        "x.shape"
      ],
      "metadata": {
        "colab": {
          "base_uri": "https://localhost:8080/"
        },
        "id": "CmaqMxTiQvJO",
        "outputId": "1420f3b1-5591-48c1-a20d-9bce90ca828b"
      },
      "execution_count": 14,
      "outputs": [
        {
          "output_type": "execute_result",
          "data": {
            "text/plain": [
              "torch.Size([1, 6, 13, 13])"
            ]
          },
          "metadata": {},
          "execution_count": 14
        }
      ]
    },
    {
      "cell_type": "code",
      "source": [
        "x = F.relu(conv2(x))"
      ],
      "metadata": {
        "id": "qJ42_T8zRASu"
      },
      "execution_count": 15,
      "outputs": []
    },
    {
      "cell_type": "code",
      "source": [
        "x.shape"
      ],
      "metadata": {
        "colab": {
          "base_uri": "https://localhost:8080/"
        },
        "id": "qKAXxTTzRKsm",
        "outputId": "1c59439e-558f-4bf7-fec4-024b7dce5d9c"
      },
      "execution_count": 16,
      "outputs": [
        {
          "output_type": "execute_result",
          "data": {
            "text/plain": [
              "torch.Size([1, 16, 11, 11])"
            ]
          },
          "metadata": {},
          "execution_count": 16
        }
      ]
    },
    {
      "cell_type": "code",
      "source": [
        "x = F.max_pool2d(x,2,2)"
      ],
      "metadata": {
        "id": "2NWHlQmmRNE2"
      },
      "execution_count": 17,
      "outputs": []
    },
    {
      "cell_type": "code",
      "source": [
        "x.shape"
      ],
      "metadata": {
        "colab": {
          "base_uri": "https://localhost:8080/"
        },
        "id": "5Mwb2GkKRVV-",
        "outputId": "849ae8ae-c29a-4f7f-d707-51545a10aa1d"
      },
      "execution_count": 18,
      "outputs": [
        {
          "output_type": "execute_result",
          "data": {
            "text/plain": [
              "torch.Size([1, 16, 5, 5])"
            ]
          },
          "metadata": {},
          "execution_count": 18
        }
      ]
    },
    {
      "cell_type": "code",
      "source": [
        "class ConvolutionalNetwork(nn.Module):\n",
        "  def __init__(self):\n",
        "    super().__init__()\n",
        "    self.conv1 = nn.Conv2d(1,6,3,1)\n",
        "    self.conv2 = nn.Conv2d(6,16,3,1)\n",
        "    self.fc1 = nn.Linear(5*5*16, 120)\n",
        "    self.fc2 = nn.Linear(120,84)\n",
        "    self.fc3 = nn.Linear(84,10)\n",
        "  def forward(self,x):\n",
        "    x = F.relu(self.conv1(x))\n",
        "    x = F.max_pool2d(x,2,2)\n",
        "    x = F.relu(self.conv2(x))\n",
        "    x = F.max_pool2d(x,2,2)\n",
        "    x = x.view(-1,5*5*16)\n",
        "    x = F.relu(self.fc1(x))\n",
        "    x = F.relu(self.fc2(x))\n",
        "    x = self.fc3(x)\n",
        "    return F.log_softmax(x, dim=1)"
      ],
      "metadata": {
        "id": "8_Z76hVkRXTG"
      },
      "execution_count": 19,
      "outputs": []
    },
    {
      "cell_type": "code",
      "source": [
        "torch.manual_seed(101)\n",
        "model = ConvolutionalNetwork()\n",
        "model"
      ],
      "metadata": {
        "colab": {
          "base_uri": "https://localhost:8080/"
        },
        "id": "Raqff6vOUPlP",
        "outputId": "310ec4ac-575a-4fe0-fcf6-79631c29b2f3"
      },
      "execution_count": 20,
      "outputs": [
        {
          "output_type": "execute_result",
          "data": {
            "text/plain": [
              "ConvolutionalNetwork(\n",
              "  (conv1): Conv2d(1, 6, kernel_size=(3, 3), stride=(1, 1))\n",
              "  (conv2): Conv2d(6, 16, kernel_size=(3, 3), stride=(1, 1))\n",
              "  (fc1): Linear(in_features=400, out_features=120, bias=True)\n",
              "  (fc2): Linear(in_features=120, out_features=84, bias=True)\n",
              "  (fc3): Linear(in_features=84, out_features=10, bias=True)\n",
              ")"
            ]
          },
          "metadata": {},
          "execution_count": 20
        }
      ]
    },
    {
      "cell_type": "code",
      "source": [
        "criterion = nn.CrossEntropyLoss()\n",
        "optimizer = torch.optim.Adam(model.parameters(), lr=0.001)"
      ],
      "metadata": {
        "id": "7GRFTv2vUbGn"
      },
      "execution_count": 21,
      "outputs": []
    },
    {
      "cell_type": "code",
      "source": [
        "import time\n",
        "start_time = time.time()\n",
        "\n",
        "epochs = 5\n",
        "train_losses = []\n",
        "test_losses = []\n",
        "train_correct = []\n",
        "test_correct = []\n",
        "\n",
        "for i in range(epochs):\n",
        "  trn_corr = 0\n",
        "  tst_corr = 0\n",
        "\n",
        "  for b, (X_train, y_train) in enumerate(train_loader):\n",
        "    b+=1\n",
        "    y_pred = model(X_train)\n",
        "    loss = criterion(y_pred, y_train)\n",
        "    predicted = torch.max(y_pred.data, 1)[1]\n",
        "    batch_corr = (predicted == y_train).sum()\n",
        "    trn_corr += batch_corr\n",
        "\n",
        "    optimizer.zero_grad()\n",
        "    loss.backward()\n",
        "    optimizer.step()\n",
        "    if b%100 == 0:\n",
        "      print(f'epoch: {i}  batch: {b}  loss: {loss.item()}')\n",
        "  train_losses.append(loss)\n",
        "  train_correct.append(trn_corr)\n",
        "\n",
        "  with torch.no_grad():\n",
        "    for b, (X_test, y_test) in enumerate(test_loader):\n",
        "      y_val = model(X_test)\n",
        "      predicted = torch.max(y_val.data, 1)[1]\n",
        "      tst_corr += (predicted == y_test).sum()\n",
        "    loss = criterion(y_val, y_test)\n",
        "    test_losses.append(loss)\n",
        "    test_correct.append(tst_corr)\n",
        "\n",
        "\n",
        "current_time = time.time()\n",
        "total = current_time - start_time\n",
        "print(f'Trainig took : {total/60} minutes')"
      ],
      "metadata": {
        "colab": {
          "base_uri": "https://localhost:8080/"
        },
        "id": "urwk8AlpUqmP",
        "outputId": "6ca5031b-dc3f-450b-fe42-e8be9e28f257"
      },
      "execution_count": 22,
      "outputs": [
        {
          "output_type": "stream",
          "name": "stdout",
          "text": [
            "epoch: 0  batch: 100  loss: 1.2109216451644897\n",
            "epoch: 0  batch: 200  loss: 0.36639341711997986\n",
            "epoch: 0  batch: 300  loss: 0.14473110437393188\n",
            "epoch: 0  batch: 400  loss: 0.18910661339759827\n",
            "epoch: 0  batch: 500  loss: 0.09002391993999481\n",
            "epoch: 0  batch: 600  loss: 0.27714279294013977\n",
            "epoch: 0  batch: 700  loss: 0.5291472673416138\n",
            "epoch: 0  batch: 800  loss: 0.42166203260421753\n",
            "epoch: 0  batch: 900  loss: 0.1430385410785675\n",
            "epoch: 0  batch: 1000  loss: 0.044817965477705\n",
            "epoch: 0  batch: 1100  loss: 0.022007253021001816\n",
            "epoch: 0  batch: 1200  loss: 0.05869954079389572\n",
            "epoch: 0  batch: 1300  loss: 0.06924393028020859\n",
            "epoch: 0  batch: 1400  loss: 0.0793910026550293\n",
            "epoch: 0  batch: 1500  loss: 0.017932608723640442\n",
            "epoch: 0  batch: 1600  loss: 0.026295553892850876\n",
            "epoch: 0  batch: 1700  loss: 0.049900732934474945\n",
            "epoch: 0  batch: 1800  loss: 0.14001299440860748\n",
            "epoch: 0  batch: 1900  loss: 0.4330292344093323\n",
            "epoch: 0  batch: 2000  loss: 0.06382660567760468\n",
            "epoch: 0  batch: 2100  loss: 0.14046266674995422\n",
            "epoch: 0  batch: 2200  loss: 0.4374387264251709\n",
            "epoch: 0  batch: 2300  loss: 0.038523100316524506\n",
            "epoch: 0  batch: 2400  loss: 0.14789725840091705\n",
            "epoch: 0  batch: 2500  loss: 0.009682875126600266\n",
            "epoch: 0  batch: 2600  loss: 0.040298186242580414\n",
            "epoch: 0  batch: 2700  loss: 0.19140811264514923\n",
            "epoch: 0  batch: 2800  loss: 0.13939015567302704\n",
            "epoch: 0  batch: 2900  loss: 0.011537699960172176\n",
            "epoch: 0  batch: 3000  loss: 0.015575326979160309\n",
            "epoch: 0  batch: 3100  loss: 0.09094744175672531\n",
            "epoch: 0  batch: 3200  loss: 0.1606716811656952\n",
            "epoch: 0  batch: 3300  loss: 0.0026020584627985954\n",
            "epoch: 0  batch: 3400  loss: 0.2566355764865875\n",
            "epoch: 0  batch: 3500  loss: 0.20020154118537903\n",
            "epoch: 0  batch: 3600  loss: 0.011459420435130596\n",
            "epoch: 0  batch: 3700  loss: 0.02747175469994545\n",
            "epoch: 0  batch: 3800  loss: 0.012788916006684303\n",
            "epoch: 0  batch: 3900  loss: 0.10761209577322006\n",
            "epoch: 0  batch: 4000  loss: 0.011927400715649128\n",
            "epoch: 0  batch: 4100  loss: 0.0025600255466997623\n",
            "epoch: 0  batch: 4200  loss: 0.009168890304863453\n",
            "epoch: 0  batch: 4300  loss: 0.0027896426618099213\n",
            "epoch: 0  batch: 4400  loss: 0.04511786252260208\n",
            "epoch: 0  batch: 4500  loss: 0.24297425150871277\n",
            "epoch: 0  batch: 4600  loss: 0.0019644249696284533\n",
            "epoch: 0  batch: 4700  loss: 0.038398001343011856\n",
            "epoch: 0  batch: 4800  loss: 0.00417522294446826\n",
            "epoch: 0  batch: 4900  loss: 0.1594814956188202\n",
            "epoch: 0  batch: 5000  loss: 0.012956182472407818\n",
            "epoch: 0  batch: 5100  loss: 0.029754450544714928\n",
            "epoch: 0  batch: 5200  loss: 0.0021117390133440495\n",
            "epoch: 0  batch: 5300  loss: 0.23566396534442902\n",
            "epoch: 0  batch: 5400  loss: 0.002396020805463195\n",
            "epoch: 0  batch: 5500  loss: 0.03773476928472519\n",
            "epoch: 0  batch: 5600  loss: 0.12587548792362213\n",
            "epoch: 0  batch: 5700  loss: 7.544040272478014e-05\n",
            "epoch: 0  batch: 5800  loss: 0.011553613469004631\n",
            "epoch: 0  batch: 5900  loss: 0.015037750825285912\n",
            "epoch: 0  batch: 6000  loss: 0.003313155844807625\n",
            "epoch: 1  batch: 100  loss: 0.007724716328084469\n",
            "epoch: 1  batch: 200  loss: 0.37085288763046265\n",
            "epoch: 1  batch: 300  loss: 0.12160181999206543\n",
            "epoch: 1  batch: 400  loss: 0.007056777831166983\n",
            "epoch: 1  batch: 500  loss: 0.04977191612124443\n",
            "epoch: 1  batch: 600  loss: 0.02910645864903927\n",
            "epoch: 1  batch: 700  loss: 0.017735861241817474\n",
            "epoch: 1  batch: 800  loss: 0.00030557828722521663\n",
            "epoch: 1  batch: 900  loss: 0.03534106910228729\n",
            "epoch: 1  batch: 1000  loss: 0.007079019211232662\n",
            "epoch: 1  batch: 1100  loss: 0.00020122388377785683\n",
            "epoch: 1  batch: 1200  loss: 0.09715400636196136\n",
            "epoch: 1  batch: 1300  loss: 0.00028103243676014245\n",
            "epoch: 1  batch: 1400  loss: 0.003259759396314621\n",
            "epoch: 1  batch: 1500  loss: 0.11024586856365204\n",
            "epoch: 1  batch: 1600  loss: 0.370313435792923\n",
            "epoch: 1  batch: 1700  loss: 0.0011046440340578556\n",
            "epoch: 1  batch: 1800  loss: 0.0060613942332565784\n",
            "epoch: 1  batch: 1900  loss: 0.002332390518859029\n",
            "epoch: 1  batch: 2000  loss: 0.004477371461689472\n",
            "epoch: 1  batch: 2100  loss: 0.0024443319998681545\n",
            "epoch: 1  batch: 2200  loss: 0.05305046960711479\n",
            "epoch: 1  batch: 2300  loss: 0.005950645077973604\n",
            "epoch: 1  batch: 2400  loss: 0.022610651329159737\n",
            "epoch: 1  batch: 2500  loss: 0.0024286352563649416\n",
            "epoch: 1  batch: 2600  loss: 0.4409019947052002\n",
            "epoch: 1  batch: 2700  loss: 0.00424607889726758\n",
            "epoch: 1  batch: 2800  loss: 0.025629842653870583\n",
            "epoch: 1  batch: 2900  loss: 0.05279852822422981\n",
            "epoch: 1  batch: 3000  loss: 0.04838515818119049\n",
            "epoch: 1  batch: 3100  loss: 0.00572878448292613\n",
            "epoch: 1  batch: 3200  loss: 0.002693015616387129\n",
            "epoch: 1  batch: 3300  loss: 0.09206284582614899\n",
            "epoch: 1  batch: 3400  loss: 0.0011935767251998186\n",
            "epoch: 1  batch: 3500  loss: 0.005616273730993271\n",
            "epoch: 1  batch: 3600  loss: 0.005749894306063652\n",
            "epoch: 1  batch: 3700  loss: 0.005108118988573551\n",
            "epoch: 1  batch: 3800  loss: 0.0002720423217397183\n",
            "epoch: 1  batch: 3900  loss: 0.027727553620934486\n",
            "epoch: 1  batch: 4000  loss: 0.0764770433306694\n",
            "epoch: 1  batch: 4100  loss: 0.023455729708075523\n",
            "epoch: 1  batch: 4200  loss: 0.25272902846336365\n",
            "epoch: 1  batch: 4300  loss: 0.02322584018111229\n",
            "epoch: 1  batch: 4400  loss: 0.023042667657136917\n",
            "epoch: 1  batch: 4500  loss: 0.0002051820047199726\n",
            "epoch: 1  batch: 4600  loss: 0.038627903908491135\n",
            "epoch: 1  batch: 4700  loss: 0.0009647727711126208\n",
            "epoch: 1  batch: 4800  loss: 0.0002936680684797466\n",
            "epoch: 1  batch: 4900  loss: 0.0005161200533621013\n",
            "epoch: 1  batch: 5000  loss: 0.010100262239575386\n",
            "epoch: 1  batch: 5100  loss: 0.00096080859657377\n",
            "epoch: 1  batch: 5200  loss: 0.0001414372236467898\n",
            "epoch: 1  batch: 5300  loss: 0.10779319703578949\n",
            "epoch: 1  batch: 5400  loss: 0.24952879548072815\n",
            "epoch: 1  batch: 5500  loss: 0.0026654901448637247\n",
            "epoch: 1  batch: 5600  loss: 0.05918862298130989\n",
            "epoch: 1  batch: 5700  loss: 0.0007964880205690861\n",
            "epoch: 1  batch: 5800  loss: 0.001220155623741448\n",
            "epoch: 1  batch: 5900  loss: 0.00011163961607962847\n",
            "epoch: 1  batch: 6000  loss: 0.012904241681098938\n",
            "epoch: 2  batch: 100  loss: 2.7309026336297393e-05\n",
            "epoch: 2  batch: 200  loss: 0.00034430724917910993\n",
            "epoch: 2  batch: 300  loss: 0.056851692497730255\n",
            "epoch: 2  batch: 400  loss: 0.0005350613500922918\n",
            "epoch: 2  batch: 500  loss: 0.0003745206049643457\n",
            "epoch: 2  batch: 600  loss: 0.09780608117580414\n",
            "epoch: 2  batch: 700  loss: 0.0013653298374265432\n",
            "epoch: 2  batch: 800  loss: 0.0024115853011608124\n",
            "epoch: 2  batch: 900  loss: 0.005638979375362396\n",
            "epoch: 2  batch: 1000  loss: 0.0031998716294765472\n",
            "epoch: 2  batch: 1100  loss: 0.00013961730292066932\n",
            "epoch: 2  batch: 1200  loss: 0.000963487836997956\n",
            "epoch: 2  batch: 1300  loss: 0.003948902245610952\n",
            "epoch: 2  batch: 1400  loss: 0.0011541302083060145\n",
            "epoch: 2  batch: 1500  loss: 6.823084549978375e-05\n",
            "epoch: 2  batch: 1600  loss: 0.007734034210443497\n",
            "epoch: 2  batch: 1700  loss: 0.0001438547478755936\n",
            "epoch: 2  batch: 1800  loss: 0.001141245593316853\n",
            "epoch: 2  batch: 1900  loss: 0.0009148848475888371\n",
            "epoch: 2  batch: 2000  loss: 0.006743253208696842\n",
            "epoch: 2  batch: 2100  loss: 0.009272226132452488\n",
            "epoch: 2  batch: 2200  loss: 0.00035246199695393443\n",
            "epoch: 2  batch: 2300  loss: 0.0006869391072541475\n",
            "epoch: 2  batch: 2400  loss: 0.5337463021278381\n",
            "epoch: 2  batch: 2500  loss: 0.0004120146913919598\n",
            "epoch: 2  batch: 2600  loss: 0.0022097539622336626\n",
            "epoch: 2  batch: 2700  loss: 0.0023565194569528103\n",
            "epoch: 2  batch: 2800  loss: 0.7994754910469055\n",
            "epoch: 2  batch: 2900  loss: 0.004559867084026337\n",
            "epoch: 2  batch: 3000  loss: 0.15846773982048035\n",
            "epoch: 2  batch: 3100  loss: 0.0029697369318455458\n",
            "epoch: 2  batch: 3200  loss: 0.037062861025333405\n",
            "epoch: 2  batch: 3300  loss: 0.0009439716232009232\n",
            "epoch: 2  batch: 3400  loss: 0.005596171133220196\n",
            "epoch: 2  batch: 3500  loss: 0.6090293526649475\n",
            "epoch: 2  batch: 3600  loss: 0.008188484236598015\n",
            "epoch: 2  batch: 3700  loss: 2.6571069611236453e-05\n",
            "epoch: 2  batch: 3800  loss: 0.06675668060779572\n",
            "epoch: 2  batch: 3900  loss: 0.0012992939446121454\n",
            "epoch: 2  batch: 4000  loss: 0.0007896415772847831\n",
            "epoch: 2  batch: 4100  loss: 0.05732124298810959\n",
            "epoch: 2  batch: 4200  loss: 0.004836753010749817\n",
            "epoch: 2  batch: 4300  loss: 0.0008976105600595474\n",
            "epoch: 2  batch: 4400  loss: 0.0016288425540551543\n",
            "epoch: 2  batch: 4500  loss: 0.23672595620155334\n",
            "epoch: 2  batch: 4600  loss: 0.0007444039219990373\n",
            "epoch: 2  batch: 4700  loss: 5.8120087487623096e-05\n",
            "epoch: 2  batch: 4800  loss: 0.00897577777504921\n",
            "epoch: 2  batch: 4900  loss: 0.04677607864141464\n",
            "epoch: 2  batch: 5000  loss: 0.0001855359587352723\n",
            "epoch: 2  batch: 5100  loss: 0.008247514255344868\n",
            "epoch: 2  batch: 5200  loss: 0.07812511920928955\n",
            "epoch: 2  batch: 5300  loss: 0.0026037534698843956\n",
            "epoch: 2  batch: 5400  loss: 0.0001601819385541603\n",
            "epoch: 2  batch: 5500  loss: 0.004851990379393101\n",
            "epoch: 2  batch: 5600  loss: 0.0024727927520871162\n",
            "epoch: 2  batch: 5700  loss: 0.001868793391622603\n",
            "epoch: 2  batch: 5800  loss: 0.017379937693476677\n",
            "epoch: 2  batch: 5900  loss: 0.00031549992854706943\n",
            "epoch: 2  batch: 6000  loss: 0.0001314394612563774\n",
            "epoch: 3  batch: 100  loss: 0.030034611001610756\n",
            "epoch: 3  batch: 200  loss: 0.3071136474609375\n",
            "epoch: 3  batch: 300  loss: 0.0003028457867912948\n",
            "epoch: 3  batch: 400  loss: 0.0009812323842197657\n",
            "epoch: 3  batch: 500  loss: 0.0009759191307239234\n",
            "epoch: 3  batch: 600  loss: 0.07603722810745239\n",
            "epoch: 3  batch: 700  loss: 0.2530357837677002\n",
            "epoch: 3  batch: 800  loss: 0.0022165044210851192\n",
            "epoch: 3  batch: 900  loss: 0.005425635725259781\n",
            "epoch: 3  batch: 1000  loss: 0.01702794060111046\n",
            "epoch: 3  batch: 1100  loss: 0.01808898337185383\n",
            "epoch: 3  batch: 1200  loss: 0.005416658706963062\n",
            "epoch: 3  batch: 1300  loss: 0.0005640621529892087\n",
            "epoch: 3  batch: 1400  loss: 0.021735019981861115\n",
            "epoch: 3  batch: 1500  loss: 0.0030771219171583652\n",
            "epoch: 3  batch: 1600  loss: 0.00028290203772485256\n",
            "epoch: 3  batch: 1700  loss: 0.1868991255760193\n",
            "epoch: 3  batch: 1800  loss: 0.0011215140111744404\n",
            "epoch: 3  batch: 1900  loss: 0.1288141906261444\n",
            "epoch: 3  batch: 2000  loss: 0.013835558667778969\n",
            "epoch: 3  batch: 2100  loss: 0.0006557747256010771\n",
            "epoch: 3  batch: 2200  loss: 0.000879816070664674\n",
            "epoch: 3  batch: 2300  loss: 0.02300352044403553\n",
            "epoch: 3  batch: 2400  loss: 0.0004221698618493974\n",
            "epoch: 3  batch: 2500  loss: 0.0019075029995292425\n",
            "epoch: 3  batch: 2600  loss: 0.00018693116726353765\n",
            "epoch: 3  batch: 2700  loss: 0.002837431151419878\n",
            "epoch: 3  batch: 2800  loss: 0.005353368818759918\n",
            "epoch: 3  batch: 2900  loss: 1.734436591505073e-05\n",
            "epoch: 3  batch: 3000  loss: 0.0001278524287045002\n",
            "epoch: 3  batch: 3100  loss: 0.06236105412244797\n",
            "epoch: 3  batch: 3200  loss: 0.003469570307061076\n",
            "epoch: 3  batch: 3300  loss: 0.0005630265804938972\n",
            "epoch: 3  batch: 3400  loss: 0.03158864751458168\n",
            "epoch: 3  batch: 3500  loss: 0.0013604931300505996\n",
            "epoch: 3  batch: 3600  loss: 0.003991600126028061\n",
            "epoch: 3  batch: 3700  loss: 0.9032963514328003\n",
            "epoch: 3  batch: 3800  loss: 0.00028959798510186374\n",
            "epoch: 3  batch: 3900  loss: 0.014437906444072723\n",
            "epoch: 3  batch: 4000  loss: 0.0011732305865734816\n",
            "epoch: 3  batch: 4100  loss: 0.072772316634655\n",
            "epoch: 3  batch: 4200  loss: 0.0018084824550896883\n",
            "epoch: 3  batch: 4300  loss: 0.020683854818344116\n",
            "epoch: 3  batch: 4400  loss: 0.0004401337937451899\n",
            "epoch: 3  batch: 4500  loss: 0.00022286479361355305\n",
            "epoch: 3  batch: 4600  loss: 0.0005449106683954597\n",
            "epoch: 3  batch: 4700  loss: 0.02783268131315708\n",
            "epoch: 3  batch: 4800  loss: 0.0001184260836453177\n",
            "epoch: 3  batch: 4900  loss: 0.0005253692506812513\n",
            "epoch: 3  batch: 5000  loss: 0.0005474244244396687\n",
            "epoch: 3  batch: 5100  loss: 0.0008428514120168984\n",
            "epoch: 3  batch: 5200  loss: 0.0073242830112576485\n",
            "epoch: 3  batch: 5300  loss: 0.36104536056518555\n",
            "epoch: 3  batch: 5400  loss: 0.00017918934463523328\n",
            "epoch: 3  batch: 5500  loss: 0.04511973634362221\n",
            "epoch: 3  batch: 5600  loss: 0.00014756467135157436\n",
            "epoch: 3  batch: 5700  loss: 3.063558688154444e-05\n",
            "epoch: 3  batch: 5800  loss: 0.002178239868953824\n",
            "epoch: 3  batch: 5900  loss: 0.00020346480596344918\n",
            "epoch: 3  batch: 6000  loss: 0.00581152830272913\n",
            "epoch: 4  batch: 100  loss: 0.00033541792072355747\n",
            "epoch: 4  batch: 200  loss: 0.00013037491589784622\n",
            "epoch: 4  batch: 300  loss: 0.0187067873775959\n",
            "epoch: 4  batch: 400  loss: 0.013147717341780663\n",
            "epoch: 4  batch: 500  loss: 0.20151233673095703\n",
            "epoch: 4  batch: 600  loss: 0.013489854522049427\n",
            "epoch: 4  batch: 700  loss: 0.2411169707775116\n",
            "epoch: 4  batch: 800  loss: 8.154078386723995e-05\n",
            "epoch: 4  batch: 900  loss: 5.7595974794821814e-05\n",
            "epoch: 4  batch: 1000  loss: 0.0014993587974458933\n",
            "epoch: 4  batch: 1100  loss: 0.00045766416587866843\n",
            "epoch: 4  batch: 1200  loss: 0.0009752374025993049\n",
            "epoch: 4  batch: 1300  loss: 0.1204928606748581\n",
            "epoch: 4  batch: 1400  loss: 0.00031298238900490105\n",
            "epoch: 4  batch: 1500  loss: 0.002290111966431141\n",
            "epoch: 4  batch: 1600  loss: 1.2397462342050858e-05\n",
            "epoch: 4  batch: 1700  loss: 0.00029614503728225827\n",
            "epoch: 4  batch: 1800  loss: 0.0187067948281765\n",
            "epoch: 4  batch: 1900  loss: 0.002054066862910986\n",
            "epoch: 4  batch: 2000  loss: 0.0029538157396018505\n",
            "epoch: 4  batch: 2100  loss: 0.0033236935269087553\n",
            "epoch: 4  batch: 2200  loss: 0.002746113808825612\n",
            "epoch: 4  batch: 2300  loss: 1.1169714525749441e-05\n",
            "epoch: 4  batch: 2400  loss: 0.0025625289417803288\n",
            "epoch: 4  batch: 2500  loss: 4.91585124109406e-05\n",
            "epoch: 4  batch: 2600  loss: 0.00434792460873723\n",
            "epoch: 4  batch: 2700  loss: 0.0011055897921323776\n",
            "epoch: 4  batch: 2800  loss: 0.0011473959311842918\n",
            "epoch: 4  batch: 2900  loss: 0.0184431541711092\n",
            "epoch: 4  batch: 3000  loss: 0.007703062146902084\n",
            "epoch: 4  batch: 3100  loss: 0.0005109483026899397\n",
            "epoch: 4  batch: 3200  loss: 0.006984522100538015\n",
            "epoch: 4  batch: 3300  loss: 0.00014079017273616046\n",
            "epoch: 4  batch: 3400  loss: 0.0008720491896383464\n",
            "epoch: 4  batch: 3500  loss: 0.01336310338228941\n",
            "epoch: 4  batch: 3600  loss: 0.00043635969632305205\n",
            "epoch: 4  batch: 3700  loss: 0.00012267258716747165\n",
            "epoch: 4  batch: 3800  loss: 0.07426240295171738\n",
            "epoch: 4  batch: 3900  loss: 0.017110241577029228\n",
            "epoch: 4  batch: 4000  loss: 0.014295080676674843\n",
            "epoch: 4  batch: 4100  loss: 0.00029660604195669293\n",
            "epoch: 4  batch: 4200  loss: 9.397775284014642e-05\n",
            "epoch: 4  batch: 4300  loss: 0.0019076976459473372\n",
            "epoch: 4  batch: 4400  loss: 0.0015313090989366174\n",
            "epoch: 4  batch: 4500  loss: 0.0006573470891453326\n",
            "epoch: 4  batch: 4600  loss: 0.001076570712029934\n",
            "epoch: 4  batch: 4700  loss: 0.0036725345999002457\n",
            "epoch: 4  batch: 4800  loss: 0.009405107237398624\n",
            "epoch: 4  batch: 4900  loss: 0.00012632241123355925\n",
            "epoch: 4  batch: 5000  loss: 0.027861887589097023\n",
            "epoch: 4  batch: 5100  loss: 0.03189421445131302\n",
            "epoch: 4  batch: 5200  loss: 0.0008684081840328872\n",
            "epoch: 4  batch: 5300  loss: 0.07870710641145706\n",
            "epoch: 4  batch: 5400  loss: 0.0010741250589489937\n",
            "epoch: 4  batch: 5500  loss: 5.05388125020545e-05\n",
            "epoch: 4  batch: 5600  loss: 0.00025851960526779294\n",
            "epoch: 4  batch: 5700  loss: 0.00038652439252473414\n",
            "epoch: 4  batch: 5800  loss: 0.00012453043018467724\n",
            "epoch: 4  batch: 5900  loss: 0.0010866811498999596\n",
            "epoch: 4  batch: 6000  loss: 0.0018804275896400213\n",
            "Trainig took : 5.713167933622996 minutes\n"
          ]
        }
      ]
    },
    {
      "cell_type": "code",
      "source": [
        "train_losses = [t.item() for t in train_losses]\n",
        "test_losses = [t.item() for t in test_losses]\n",
        "plt.plot(train_losses, label='training loss')\n",
        "plt.plot(test_losses, label='testing loss')\n",
        "plt.title('Loss at the end of each epoch')\n",
        "plt.legend()"
      ],
      "metadata": {
        "colab": {
          "base_uri": "https://localhost:8080/",
          "height": 469
        },
        "id": "Owt_PfywzlJh",
        "outputId": "6b390299-764a-48e2-f1e1-c7dac67f7fa9"
      },
      "execution_count": 24,
      "outputs": [
        {
          "output_type": "execute_result",
          "data": {
            "text/plain": [
              "<matplotlib.legend.Legend at 0x7e7dc0592380>"
            ]
          },
          "metadata": {},
          "execution_count": 24
        },
        {
          "output_type": "display_data",
          "data": {
            "text/plain": [
              "<Figure size 640x480 with 1 Axes>"
            ],
            "image/png": "[encoded data removed]"
          },
          "metadata": {}
        }
      ]
    },
    {
      "cell_type": "code",
      "source": [
        "plt.plot([t/60 for t in train_correct], label='training accuracy')\n",
        "plt.plot([t/60 for t in test_correct], label='testing accuracy')\n",
        "plt.title('Accuracy at the end of each epoch')\n",
        "plt.legend()"
      ],
      "metadata": {
        "colab": {
          "base_uri": "https://localhost:8080/",
          "height": 469
        },
        "id": "fmWeAnQg1eOS",
        "outputId": "6dc58031-337e-40fd-f6df-8180a35926f2"
      },
      "execution_count": 25,
      "outputs": [
        {
          "output_type": "execute_result",
          "data": {
            "text/plain": [
              "<matplotlib.legend.Legend at 0x7e7dc03976d0>"
            ]
          },
          "metadata": {},
          "execution_count": 25
        },
        {
          "output_type": "display_data",
          "data": {
            "text/plain": [
              "<Figure size 640x480 with 1 Axes>"
            ],
            "image/png": "[encoded data removed]"
          },
          "metadata": {}
        }
      ]
    },
    {
      "cell_type": "code",
      "source": [
        "test_load_everything = torch.utils.data.DataLoader(test_data, batch_size = 10000, shuffle = False )"
      ],
      "metadata": {
        "id": "G_7e51DZ2oAh"
      },
      "execution_count": 27,
      "outputs": []
    },
    {
      "cell_type": "code",
      "source": [
        "with torch.no_grad():\n",
        "  correct = 0\n",
        "  for b, (X_test, y_test) in enumerate(test_load_everything):\n",
        "    y_val = model(X_test)\n",
        "    predicted = torch.max(y_val.data, 1)[1]\n",
        "    correct += (predicted == y_test).sum()\n",
        "  print(f'Test accuracy: {correct/len(test_data)}')"
      ],
      "metadata": {
        "colab": {
          "base_uri": "https://localhost:8080/"
        },
        "id": "8Czo1SdP3Kt6",
        "outputId": "e0a9ba18-839c-4ba6-840b-03e696ef5909"
      },
      "execution_count": 28,
      "outputs": [
        {
          "output_type": "stream",
          "name": "stdout",
          "text": [
            "Test accuracy: 0.9926666617393494\n"
          ]
        }
      ]
    },
    {
      "cell_type": "code",
      "source": [
        "correct.item()/len(test_data)"
      ],
      "metadata": {
        "colab": {
          "base_uri": "https://localhost:8080/"
        },
        "id": "iIoJKEWY4JJy",
        "outputId": "f7050574-006a-4f15-c7c1-858a0b241101"
      },
      "execution_count": 30,
      "outputs": [
        {
          "output_type": "execute_result",
          "data": {
            "text/plain": [
              "0.9926666666666667"
            ]
          },
          "metadata": {},
          "execution_count": 30
        }
      ]
    },
    {
      "cell_type": "code",
      "source": [
        "test_data[2535][0].reshape(28,28)"
      ],
      "metadata": {
        "colab": {
          "base_uri": "https://localhost:8080/"
        },
        "id": "kz_aVyqN4T7C",
        "outputId": "c9248001-63ec-4794-f494-1f0a54f9d5f1"
      },
      "execution_count": 33,
      "outputs": [
        {
          "output_type": "execute_result",
          "data": {
            "text/plain": [
              "tensor([[0.0000, 0.0000, 0.0000, 0.0000, 0.0000, 0.0000, 0.0000, 0.0000, 0.0000,\n",
              "         0.0000, 0.0000, 0.0000, 0.0000, 0.0000, 0.0000, 0.0000, 0.0000, 0.0000,\n",
              "         0.0000, 0.0000, 0.0000, 0.0000, 0.0000, 0.0000, 0.0000, 0.0000, 0.0000,\n",
              "         0.0000],\n",
              "        [0.0000, 0.0000, 0.0000, 0.0000, 0.0000, 0.0000, 0.0000, 0.0000, 0.0000,\n",
              "         0.0000, 0.0000, 0.0000, 0.0000, 0.0000, 0.0000, 0.0000, 0.0000, 0.0000,\n",
              "         0.0000, 0.0000, 0.0000, 0.0000, 0.0000, 0.0000, 0.0000, 0.0000, 0.0000,\n",
              "         0.0000],\n",
              "        [0.0000, 0.0000, 0.0000, 0.0000, 0.0000, 0.0000, 0.0000, 0.0000, 0.0000,\n",
              "         0.0000, 0.0000, 0.0000, 0.0000, 0.0000, 0.0000, 0.0000, 0.0000, 0.0000,\n",
              "         0.0000, 0.0000, 0.0000, 0.0000, 0.0000, 0.0000, 0.0000, 0.0000, 0.0000,\n",
              "         0.0000],\n",
              "        [0.0000, 0.0000, 0.0000, 0.0000, 0.0000, 0.0000, 0.0000, 0.0000, 0.0000,\n",
              "         0.0000, 0.0000, 0.0000, 0.0000, 0.0000, 0.0000, 0.0000, 0.0000, 0.0000,\n",
              "         0.0000, 0.0000, 0.0000, 0.0000, 0.0000, 0.0000, 0.0000, 0.0000, 0.0000,\n",
              "         0.0000],\n",
              "        [0.0000, 0.0000, 0.0000, 0.0000, 0.0000, 0.0000, 0.0000, 0.0000, 0.0000,\n",
              "         0.0000, 0.0000, 0.0000, 0.0000, 0.0000, 0.0000, 0.0000, 0.0000, 0.0000,\n",
              "         0.0000, 0.0000, 0.0000, 0.0000, 0.0000, 0.0000, 0.0000, 0.0000, 0.0000,\n",
              "         0.0000],\n",
              "        [0.0000, 0.0000, 0.0000, 0.0000, 0.0000, 0.0000, 0.0000, 0.0000, 0.0000,\n",
              "         0.0000, 0.0000, 0.0000, 0.0000, 0.0000, 0.0000, 0.0000, 0.0000, 0.0000,\n",
              "         0.0000, 0.0000, 0.0000, 0.0000, 0.0000, 0.0000, 0.0000, 0.0000, 0.0000,\n",
              "         0.0000],\n",
              "        [0.0000, 0.0000, 0.0000, 0.0000, 0.0000, 0.0000, 0.0000, 0.0000, 0.0000,\n",
              "         0.0000, 0.0000, 0.0000, 0.0000, 0.0000, 0.0000, 0.0000, 0.2471, 0.3098,\n",
              "         0.3098, 0.1843, 0.0000, 0.0000, 0.0000, 0.0000, 0.0000, 0.0000, 0.0000,\n",
              "         0.0000],\n",
              "        [0.0000, 0.0000, 0.0000, 0.0000, 0.0000, 0.0000, 0.0000, 0.0000, 0.0000,\n",
              "         0.0000, 0.0000, 0.2588, 0.2902, 0.5765, 0.9098, 0.9686, 0.9922, 0.9961,\n",
              "         0.9961, 0.9843, 0.9490, 0.6078, 0.0078, 0.0941, 0.0000, 0.0000, 0.0000,\n",
              "         0.0000],\n",
              "        [0.0000, 0.0000, 0.0000, 0.0000, 0.0000, 0.0000, 0.0000, 0.0000, 0.0000,\n",
              "         0.4471, 0.8000, 0.9922, 0.9961, 0.9961, 0.9961, 0.9961, 0.9961, 0.9961,\n",
              "         0.9961, 0.9961, 0.9961, 0.9961, 0.5922, 0.7686, 0.0000, 0.0000, 0.0000,\n",
              "         0.0000],\n",
              "        [0.0000, 0.0000, 0.0000, 0.0000, 0.0000, 0.0000, 0.0000, 0.0000, 0.6431,\n",
              "         0.9922, 0.9961, 0.9961, 0.7765, 0.6863, 0.4078, 0.3608, 0.1804, 0.0667,\n",
              "         0.0941, 0.4078, 0.7216, 0.9961, 0.7843, 0.2706, 0.0000, 0.0000, 0.0000,\n",
              "         0.0000],\n",
              "        [0.0000, 0.0000, 0.0000, 0.0000, 0.0000, 0.0000, 0.0000, 0.0000, 0.2510,\n",
              "         0.6784, 0.4235, 0.2392, 0.0118, 0.0000, 0.0000, 0.0000, 0.0000, 0.0000,\n",
              "         0.0000, 0.2392, 0.8863, 0.9961, 0.7569, 0.0000, 0.0000, 0.0000, 0.0000,\n",
              "         0.0000],\n",
              "        [0.0000, 0.0000, 0.0000, 0.0000, 0.0000, 0.0000, 0.0000, 0.0000, 0.0000,\n",
              "         0.0000, 0.0000, 0.0000, 0.0000, 0.0000, 0.0000, 0.0000, 0.0000, 0.0235,\n",
              "         0.3961, 0.9412, 0.9961, 0.9137, 0.2706, 0.0000, 0.0000, 0.0000, 0.0000,\n",
              "         0.0000],\n",
              "        [0.0000, 0.0000, 0.0000, 0.0000, 0.0000, 0.0000, 0.0000, 0.0000, 0.0000,\n",
              "         0.0000, 0.0000, 0.0000, 0.0000, 0.0000, 0.0000, 0.0000, 0.0275, 0.5137,\n",
              "         0.9961, 0.9961, 0.9686, 0.2863, 0.0000, 0.0000, 0.0000, 0.0000, 0.0000,\n",
              "         0.0000],\n",
              "        [0.0000, 0.0000, 0.0000, 0.0000, 0.0000, 0.0000, 0.0000, 0.0000, 0.0000,\n",
              "         0.0000, 0.0000, 0.0000, 0.0000, 0.0000, 0.0941, 0.3961, 0.8824, 0.9961,\n",
              "         0.9961, 0.8588, 0.3098, 0.0000, 0.0000, 0.0000, 0.0000, 0.0000, 0.0000,\n",
              "         0.0000],\n",
              "        [0.0000, 0.0000, 0.0000, 0.0000, 0.0000, 0.0000, 0.0000, 0.0000, 0.0000,\n",
              "         0.0000, 0.0000, 0.0000, 0.3294, 0.6824, 0.9216, 0.9961, 0.9961, 0.9647,\n",
              "         0.5020, 0.0392, 0.0000, 0.0000, 0.0000, 0.0000, 0.0000, 0.0000, 0.0000,\n",
              "         0.0000],\n",
              "        [0.0000, 0.0000, 0.0000, 0.0000, 0.0000, 0.0000, 0.0000, 0.0000, 0.0000,\n",
              "         0.0000, 0.0000, 0.6196, 0.9765, 0.9961, 0.9961, 0.9961, 0.9961, 0.9961,\n",
              "         0.5961, 0.0863, 0.0000, 0.0000, 0.0000, 0.0000, 0.0000, 0.0000, 0.0000,\n",
              "         0.0000],\n",
              "        [0.0000, 0.0000, 0.0000, 0.0000, 0.0000, 0.0000, 0.0000, 0.0000, 0.0000,\n",
              "         0.0000, 0.0000, 0.6745, 0.9961, 0.8824, 0.5804, 0.6824, 0.9255, 0.9961,\n",
              "         0.9843, 0.3686, 0.0000, 0.0000, 0.0000, 0.0000, 0.0000, 0.0000, 0.0000,\n",
              "         0.0000],\n",
              "        [0.0000, 0.0000, 0.0000, 0.0000, 0.0392, 0.2000, 0.0000, 0.0000, 0.0000,\n",
              "         0.0000, 0.0000, 0.0431, 0.2039, 0.0314, 0.0000, 0.0000, 0.3843, 0.9961,\n",
              "         0.9961, 0.4392, 0.0000, 0.0000, 0.0000, 0.0000, 0.0000, 0.0000, 0.0000,\n",
              "         0.0000],\n",
              "        [0.0000, 0.0000, 0.0000, 0.0000, 0.7020, 0.9333, 0.0588, 0.0000, 0.0000,\n",
              "         0.0000, 0.0000, 0.0000, 0.0000, 0.0000, 0.0000, 0.2118, 0.7686, 0.9961,\n",
              "         0.9686, 0.2824, 0.0000, 0.0000, 0.0000, 0.0000, 0.0000, 0.0000, 0.0000,\n",
              "         0.0000],\n",
              "        [0.0000, 0.0000, 0.0000, 0.0000, 0.8078, 0.9961, 0.6118, 0.0196, 0.0000,\n",
              "         0.0000, 0.0000, 0.0000, 0.0000, 0.0157, 0.3059, 0.8745, 0.9961, 0.9882,\n",
              "         0.6235, 0.0627, 0.0000, 0.0000, 0.0000, 0.0000, 0.0000, 0.0000, 0.0000,\n",
              "         0.0000],\n",
              "        [0.0000, 0.0000, 0.0000, 0.0000, 0.4745, 0.9725, 0.9255, 0.5373, 0.0902,\n",
              "         0.0706, 0.0706, 0.2549, 0.4118, 0.6235, 0.9961, 0.9961, 0.9961, 0.6431,\n",
              "         0.0000, 0.0000, 0.0000, 0.0000, 0.0000, 0.0000, 0.0000, 0.0000, 0.0000,\n",
              "         0.0000],\n",
              "        [0.0000, 0.0000, 0.0000, 0.0000, 0.0000, 0.6118, 0.9961, 0.9961, 0.9961,\n",
              "         0.9961, 0.9961, 0.9961, 0.9961, 0.9961, 0.9961, 0.9922, 0.6353, 0.1529,\n",
              "         0.0000, 0.0000, 0.0000, 0.0000, 0.0000, 0.0000, 0.0000, 0.0000, 0.0000,\n",
              "         0.0000],\n",
              "        [0.0000, 0.0000, 0.0000, 0.0000, 0.0000, 0.0000, 0.2784, 0.7020, 0.9647,\n",
              "         0.9961, 0.9961, 1.0000, 0.9961, 0.9804, 0.6824, 0.4275, 0.0000, 0.0000,\n",
              "         0.0000, 0.0000, 0.0000, 0.0000, 0.0000, 0.0000, 0.0000, 0.0000, 0.0000,\n",
              "         0.0000],\n",
              "        [0.0000, 0.0000, 0.0000, 0.0000, 0.0000, 0.0000, 0.0000, 0.0000, 0.0000,\n",
              "         0.2784, 0.3059, 0.3059, 0.3059, 0.1490, 0.0000, 0.0000, 0.0000, 0.0000,\n",
              "         0.0000, 0.0000, 0.0000, 0.0000, 0.0000, 0.0000, 0.0000, 0.0000, 0.0000,\n",
              "         0.0000],\n",
              "        [0.0000, 0.0000, 0.0000, 0.0000, 0.0000, 0.0000, 0.0000, 0.0000, 0.0000,\n",
              "         0.0000, 0.0000, 0.0000, 0.0000, 0.0000, 0.0000, 0.0000, 0.0000, 0.0000,\n",
              "         0.0000, 0.0000, 0.0000, 0.0000, 0.0000, 0.0000, 0.0000, 0.0000, 0.0000,\n",
              "         0.0000],\n",
              "        [0.0000, 0.0000, 0.0000, 0.0000, 0.0000, 0.0000, 0.0000, 0.0000, 0.0000,\n",
              "         0.0000, 0.0000, 0.0000, 0.0000, 0.0000, 0.0000, 0.0000, 0.0000, 0.0000,\n",
              "         0.0000, 0.0000, 0.0000, 0.0000, 0.0000, 0.0000, 0.0000, 0.0000, 0.0000,\n",
              "         0.0000],\n",
              "        [0.0000, 0.0000, 0.0000, 0.0000, 0.0000, 0.0000, 0.0000, 0.0000, 0.0000,\n",
              "         0.0000, 0.0000, 0.0000, 0.0000, 0.0000, 0.0000, 0.0000, 0.0000, 0.0000,\n",
              "         0.0000, 0.0000, 0.0000, 0.0000, 0.0000, 0.0000, 0.0000, 0.0000, 0.0000,\n",
              "         0.0000],\n",
              "        [0.0000, 0.0000, 0.0000, 0.0000, 0.0000, 0.0000, 0.0000, 0.0000, 0.0000,\n",
              "         0.0000, 0.0000, 0.0000, 0.0000, 0.0000, 0.0000, 0.0000, 0.0000, 0.0000,\n",
              "         0.0000, 0.0000, 0.0000, 0.0000, 0.0000, 0.0000, 0.0000, 0.0000, 0.0000,\n",
              "         0.0000]])"
            ]
          },
          "metadata": {},
          "execution_count": 33
        }
      ]
    },
    {
      "cell_type": "code",
      "source": [
        "plt.imshow(test_data[2535][0].reshape(28,28))"
      ],
      "metadata": {
        "colab": {
          "base_uri": "https://localhost:8080/",
          "height": 447
        },
        "id": "ZH9CxUVQ6Zlj",
        "outputId": "1d7c7033-1194-4bfa-8bf9-66d9846acfd0"
      },
      "execution_count": 35,
      "outputs": [
        {
          "output_type": "execute_result",
          "data": {
            "text/plain": [
              "<matplotlib.image.AxesImage at 0x7e7db473f100>"
            ]
          },
          "metadata": {},
          "execution_count": 35
        },
        {
          "output_type": "display_data",
          "data": {
            "text/plain": [
              "<Figure size 640x480 with 1 Axes>"
            ],
            "image/png": "[encoded data removed]"
          },
          "metadata": {}
        }
      ]
    },
    {
      "cell_type": "code",
      "source": [
        "model.eval()\n",
        "with torch.no_grad():\n",
        "  new_prediction = model(test_data[2535][0].view(1,1,28,28))"
      ],
      "metadata": {
        "id": "KKxaRVuX65Vj"
      },
      "execution_count": 36,
      "outputs": []
    },
    {
      "cell_type": "code",
      "source": [
        "new_prediction"
      ],
      "metadata": {
        "colab": {
          "base_uri": "https://localhost:8080/"
        },
        "id": "RaImbtmX7UOj",
        "outputId": "30aa530e-57f3-4d84-d604-615011b811a9"
      },
      "execution_count": 37,
      "outputs": [
        {
          "output_type": "execute_result",
          "data": {
            "text/plain": [
              "tensor([[-2.5479e+01, -2.4431e+01, -1.5802e+01, -3.5763e-07, -2.9844e+01,\n",
              "         -1.7955e+01, -2.6620e+01, -2.4213e+01, -1.5853e+01, -1.6483e+01]])"
            ]
          },
          "metadata": {},
          "execution_count": 37
        }
      ]
    },
    {
      "cell_type": "code",
      "source": [
        "new_prediction.argmax()"
      ],
      "metadata": {
        "colab": {
          "base_uri": "https://localhost:8080/"
        },
        "id": "p_ZMjjyi7YQD",
        "outputId": "e1da7335-1513-4a96-af09-e4c55f4fdb72"
      },
      "execution_count": 38,
      "outputs": [
        {
          "output_type": "execute_result",
          "data": {
            "text/plain": [
              "tensor(3)"
            ]
          },
          "metadata": {},
          "execution_count": 38
        }
      ]
    },
    {
      "cell_type": "code",
      "source": [],
      "metadata": {
        "id": "nKX9EFuq7dmT"
      },
      "execution_count": null,
      "outputs": []
    }
  ]
}